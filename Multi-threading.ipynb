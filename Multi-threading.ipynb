{
 "cells": [
  {
   "cell_type": "markdown",
   "id": "aec8c480",
   "metadata": {},
   "source": [
    "# Problem Statement\n",
    "Multiply 100 random matrices of size 1k x 1k with a constant matrix of size 1k x 1k and generate the result (Table, Graph and CPU usage)"
   ]
  },
  {
   "cell_type": "code",
   "execution_count": 1,
   "id": "ada70117",
   "metadata": {},
   "outputs": [],
   "source": [
    "import os\n",
    "import sys\n",
    "import platform\n",
    "import multiprocessing\n",
    "import threading\n",
    "import random as r\n",
    "import numpy as np\n",
    "import time"
   ]
  },
  {
   "cell_type": "code",
   "execution_count": 2,
   "id": "918d3685",
   "metadata": {},
   "outputs": [
    {
     "name": "stdout",
     "output_type": "stream",
     "text": [
      "Num of cores are:  8\n"
     ]
    }
   ],
   "source": [
    "#Number of Cores\n",
    "numberOfCores = multiprocessing.cpu_count()\n",
    "print (\"Num of cores are: \", numberOfCores)"
   ]
  },
  {
   "cell_type": "code",
   "execution_count": 3,
   "id": "16f36d84",
   "metadata": {},
   "outputs": [],
   "source": [
    "#function for multiplying two matrices\n",
    "def matrix_multiply(mat1, mat2):\n",
    "    return np.dot(mat1, mat2)\n",
    "\n",
    "# Function to perform matrix multiplications within a thread\n",
    "def perform_matrix_multiplications(num_matrices, matrix_size, constant_matrix, results, results_lock):\n",
    "    for _ in range(num_matrices):\n",
    "        # Generate a random matrix\n",
    "        random_matrix = np.random.rand(*matrix_size)\n",
    "        \n",
    "        # Perform matrix multiplication\n",
    "        result = matrix_multiply(random_matrix, constant_matrix)\n",
    "        \n",
    "        # Append result to the shared results list using a lock\n",
    "        with results_lock:\n",
    "            results.append(result)"
   ]
  },
  {
   "cell_type": "code",
   "execution_count": 4,
   "id": "3b57cd1a",
   "metadata": {},
   "outputs": [],
   "source": [
    "def main(num_threads):\n",
    "    # Define matrix dimensions\n",
    "    matrix_size = (1000, 1000)\n",
    "    num_matrices = 100\n",
    "\n",
    "    # Create random matrices and constant matrix\n",
    "    constant_matrix = np.random.rand(*matrix_size)\n",
    "\n",
    "    # List to hold results\n",
    "    results = []\n",
    "    results_lock = threading.Lock()  # Lock to safely append results\n",
    "\n",
    "    # List to hold threads\n",
    "    threads = []\n",
    "\n",
    "    # Calculate number of matrices each thread will handle\n",
    "    matrices_per_thread = num_matrices // num_threads\n",
    "    remaining_matrices = num_matrices % num_threads\n",
    "\n",
    "    # Start time measurement\n",
    "    start_time = time.time()\n",
    "\n",
    "    # Perform matrix multiplications with specified number of threads\n",
    "    for _ in range(num_threads):\n",
    "        # Determine number of matrices this thread will handle\n",
    "        if remaining_matrices > 0:\n",
    "            num_matrices_this_thread = matrices_per_thread + 1\n",
    "            remaining_matrices -= 1\n",
    "        else:\n",
    "            num_matrices_this_thread = matrices_per_thread\n",
    "\n",
    "        # Create and start a new thread\n",
    "        thread = threading.Thread(\n",
    "            target=perform_matrix_multiplications,\n",
    "            args=(num_matrices_this_thread, matrix_size, constant_matrix, results, results_lock),\n",
    "        )\n",
    "        threads.append(thread)\n",
    "        thread.start()\n",
    "\n",
    "    # Wait for all threads to complete\n",
    "    for thread in threads:\n",
    "        thread.join()\n",
    "\n",
    "    # End time measurement\n",
    "    end_time = time.time()\n",
    "\n",
    "    # Calculate total time taken\n",
    "    total_time = end_time - start_time\n",
    "\n",
    "    print(f\"Number of results: {len(results)}\")\n",
    "    print(f\"Total time taken with {num_threads} threads: {total_time:.4f} seconds\")\n",
    "    return total_time\n"
   ]
  },
  {
   "cell_type": "code",
   "execution_count": 5,
   "id": "a9ee61a4",
   "metadata": {},
   "outputs": [
    {
     "name": "stdout",
     "output_type": "stream",
     "text": [
      "Number of results: 100\n",
      "Total time taken with 1 threads: 2.1262 seconds\n",
      "Number of results: 100\n",
      "Total time taken with 2 threads: 2.0350 seconds\n",
      "Number of results: 100\n",
      "Total time taken with 3 threads: 2.0199 seconds\n",
      "Number of results: 100\n",
      "Total time taken with 4 threads: 1.9775 seconds\n",
      "Number of results: 100\n",
      "Total time taken with 5 threads: 2.0517 seconds\n",
      "Number of results: 100\n",
      "Total time taken with 6 threads: 2.1151 seconds\n",
      "Number of results: 100\n",
      "Total time taken with 7 threads: 2.1022 seconds\n",
      "Number of results: 100\n",
      "Total time taken with 8 threads: 2.2494 seconds\n",
      "Number of results: 100\n",
      "Total time taken with 9 threads: 2.7193 seconds\n",
      "Number of results: 100\n",
      "Total time taken with 10 threads: 3.2712 seconds\n",
      "Number of results: 100\n",
      "Total time taken with 11 threads: 3.6107 seconds\n",
      "Number of results: 100\n",
      "Total time taken with 12 threads: 3.7561 seconds\n",
      "Number of results: 100\n",
      "Total time taken with 13 threads: 3.7619 seconds\n",
      "Number of results: 100\n",
      "Total time taken with 14 threads: 3.7821 seconds\n",
      "Number of results: 100\n",
      "Total time taken with 15 threads: 3.8019 seconds\n",
      "Number of results: 100\n",
      "Total time taken with 16 threads: 4.0557 seconds\n"
     ]
    }
   ],
   "source": [
    "num_threads=[1,2,3,4,5,6,7,8,9,10,11,12,13,14,15,16]\n",
    "tt=[]\n",
    "for i in range(0,len(num_threads)):\n",
    "    tt.append(main(num_threads[i]))"
   ]
  },
  {
   "cell_type": "code",
   "execution_count": 6,
   "id": "2f333a5f",
   "metadata": {},
   "outputs": [
    {
     "data": {
      "text/plain": [
       "[2.1262097358703613,\n",
       " 2.034986972808838,\n",
       " 2.019918918609619,\n",
       " 1.977522850036621,\n",
       " 2.0516679286956787,\n",
       " 2.115055799484253,\n",
       " 2.102156162261963,\n",
       " 2.2494029998779297,\n",
       " 2.7193379402160645,\n",
       " 3.2712349891662598,\n",
       " 3.610685110092163,\n",
       " 3.7560718059539795,\n",
       " 3.7618870735168457,\n",
       " 3.782144069671631,\n",
       " 3.801882743835449,\n",
       " 4.055732250213623]"
      ]
     },
     "execution_count": 6,
     "metadata": {},
     "output_type": "execute_result"
    }
   ],
   "source": [
    "tt"
   ]
  },
  {
   "cell_type": "markdown",
   "id": "cd7df9fe",
   "metadata": {},
   "source": [
    "| no. of threads | 1    | 2    | 3    | 4    | 5    | 6    | 7    | 8    | 9    | 10   | 11   | 12   | 13   | 14   | 15   | 16   |\n",
    "|-------------|------|------|------|------|------|------|------|------|------|------|------|------|------|------|------|------|\n",
    "| Total Time  | 2.126| 2.035| 2.020| 1.978| 2.052| 2.115| 2.102| 2.249| 2.719| 3.271| 3.611| 3.756| 3.762| 3.782| 3.802| 4.056|\n"
   ]
  },
  {
   "cell_type": "code",
   "execution_count": 7,
   "id": "b6f5f9df",
   "metadata": {},
   "outputs": [],
   "source": [
    "import matplotlib.pyplot as plt\n",
    "import seaborn as sns\n",
    "import warnings\n",
    "warnings.filterwarnings(\"ignore\")"
   ]
  },
  {
   "cell_type": "code",
   "execution_count": 8,
   "id": "4f7dd6fe",
   "metadata": {},
   "outputs": [
    {
     "data": {
      "image/png": "[encoded data removed]",
      "text/plain": [
       "<Figure size 640x480 with 1 Axes>"
      ]
     },
     "metadata": {},
     "output_type": "display_data"
    }
   ],
   "source": [
    "sns.lineplot(x=num_threads, y=tt, marker='o')\n",
    "plt.title('Execution Time')\n",
    "plt.xlabel('Number of Threads')\n",
    "plt.ylabel('Time Taken')\n",
    "plt.show()"
   ]
  },
  {
   "cell_type": "markdown",
   "id": "f3b6df29",
   "metadata": {},
   "source": [
    "# CPU Usage\n",
    "![CPU Usage](https://i.postimg.cc/WzDhmFdR/Screenshot-2024-04-09-at-5-14-28-PM.png)\n"
   ]
  }
 ],
 "metadata": {
  "kernelspec": {
   "display_name": "Python 3 (ipykernel)",
   "language": "python",
   "name": "python3"
  },
  "language_info": {
   "codemirror_mode": {
    "name": "ipython",
    "version": 3
   },
   "file_extension": ".py",
   "mimetype": "text/x-python",
   "name": "python",
   "nbconvert_exporter": "python",
   "pygments_lexer": "ipython3",
   "version": "3.11.5"
  }
 },
 "nbformat": 4,
 "nbformat_minor": 5
}
